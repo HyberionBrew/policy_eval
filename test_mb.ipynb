{
 "cells": [
  {
   "cell_type": "code",
   "execution_count": 1,
   "metadata": {},
   "outputs": [],
   "source": [
    "import f110_gym\n",
    "import f110_orl_dataset\n",
    "import gymnasium as gym"
   ]
  },
  {
   "cell_type": "code",
   "execution_count": 2,
   "metadata": {},
   "outputs": [
    {
     "name": "stderr",
     "output_type": "stream",
     "text": [
      "/home/fabian/msc/f110_dope/ws_release/f1tenth_gym/gym/f110_gym/envs/integrator.py:13: UserWarning: Chosen integrator is RK4. This is different from previous versions of the gym.\n",
      "  warnings.warn(\n"
     ]
    },
    {
     "name": "stdout",
     "output_type": "stream",
     "text": [
      "Infsaal2_map.pgm\n",
      "loading centerline from: /home/fabian/msc/f110_dope/ws_release/f1tenth_gym/gym/f110_gym/maps/Infsaal2/Infsaal2_centerline.csv\n",
      "Loading raceline from file: /home/fabian/msc/f110_dope/ws_release/f1tenth_gym/gym/f110_gym/maps/Infsaal2/Infsaal2_raceline.csv\n",
      "Infsaal2_map.pgm\n",
      "loading centerline from: /home/fabian/msc/f110_dope/ws_release/f1tenth_gym/gym/f110_gym/maps/Infsaal2/Infsaal2_centerline.csv\n",
      "Loading raceline from file: /home/fabian/msc/f110_dope/ws_release/f1tenth_gym/gym/f110_gym/maps/Infsaal2/Infsaal2_raceline.csv\n",
      "Agent configs taken from: /home/fabian/msc/f110_dope/ws_release/f1tenth_orl_dataset/f110_orl_dataset/agent_configs\n",
      "['poses_x', 'poses_y', 'theta_sin', 'theta_cos', 'ang_vels_z', 'linear_vels_x', 'linear_vels_y', 'previous_action_steer', 'previous_action_speed']\n"
     ]
    }
   ],
   "source": [
    "evaluation_agents = [\"StochasticContinousFTGAgent_0.5_1_0.2_0.15_0.15_5.0_0.6_0.9\",\n",
    "                        \"StochasticContinousFTGAgent_0.75_0_0.2_0.15_0.15_5.0_0.3\",\n",
    "                        \"pure_pursuit_1.0_1.2_raceline\",\n",
    "                        \"pure_pursuit_0.85_1.0_raceline_og\",\n",
    "                        \"pure_pursuit_0.6_0.5_raceline_og_3\",\n",
    "                        \"StochasticContinousFTGAgent_0.45_1_0.2_0.15_0.15_5.0_0.6_0.9\",\n",
    "                        \"StochasticContinousFTGAgent_1.0_7_0.2_0.15_0.15_5.0_0.3\",\n",
    "                        ]\n",
    "F110Env = gym.make(\"f110-real-v1\",\n",
    "# only terminals are available as of right now \n",
    "    encode_cyclic=True,\n",
    "    flatten_obs=True,\n",
    "    timesteps_to_include=(0,250),\n",
    "    use_delta_actions=True,\n",
    "    include_timesteps_in_obs = False,\n",
    "    set_terminals=True,\n",
    "    delta_factor=1.0,\n",
    "    reward_config=\"reward_progress.json\",\n",
    "    include_pose_time_diff=False,\n",
    "    include_action_pose_time_diff = False,\n",
    "    include_time_obs = False,\n",
    "    include_progress=False,\n",
    "    **dict(name=\"f110-real-v1\",\n",
    "        config = dict(map=\"Infsaal2\", num_agents=1,\n",
    "        params=dict(vmin=0.0, vmax=2.0)),\n",
    "        render_mode=\"human\")\n",
    ")\n",
    "print(F110Env.keys)"
   ]
  },
  {
   "cell_type": "code",
   "execution_count": 3,
   "metadata": {},
   "outputs": [
    {
     "name": "stdout",
     "output_type": "stream",
     "text": [
      "using default path\n",
      "path: /home/fabian/.f110_rl_datasets/f110-real-v1\n",
      "The following agents are contained in the dataset: ['StochasticContinousFTGAgent_0.45_1_0.2_0.15_0.15_5.0_0.6_0.9', 'StochasticContinousFTGAgent_0.55_0_0.2_0.15_0.15_5.0_0.4_1.2', 'StochasticContinousFTGAgent_0.5_1_0.2_0.15_0.15_5.0_0.6_0.9', 'StochasticContinousFTGAgent_0.65_0_0.2_0.15_0.15_5.0_0.1', 'StochasticContinousFTGAgent_0.65_0_0.2_0.15_0.15_5.0_0.2_1.2', 'StochasticContinousFTGAgent_0.65_3_0.2_0.15_0.15_5.0_0.3', 'StochasticContinousFTGAgent_0.65_5_0.2_0.15_0.15_5.0_0.075', 'StochasticContinousFTGAgent_0.65_5_0.2_0.15_0.15_5.0_0.3', 'StochasticContinousFTGAgent_0.75_0_0.2_0.15_0.15_5.0_0.1', 'StochasticContinousFTGAgent_0.75_0_0.2_0.15_0.15_5.0_0.3', 'StochasticContinousFTGAgent_0.75_2_0.2_0.15_0.15_5.0_0.3', 'StochasticContinousFTGAgent_0.75_5_0.2_0.15_0.15_5.0_0.3', 'StochasticContinousFTGAgent_1.0_3_0.2_0.15_0.15_5.0_0.3', 'StochasticContinousFTGAgent_1.0_4_0.2_0.15_0.15_5.0_0.3', 'StochasticContinousFTGAgent_1.0_7_0.2_0.15_0.15_5.0_0.3', 'pure_pursuit2_0.8_1.2_raceline_og_3_0.6', 'pure_pursuit2_0.9_1.0_raceline_0.6_1.2', 'pure_pursuit_0.6_0.5_raceline_og_3', 'pure_pursuit_0.6_1.0_raceline_og_3', 'pure_pursuit_0.75_0.9_raceline_og', 'pure_pursuit_0.75_0.9_raceline_og_3', 'pure_pursuit_0.7_1.0_raceline_og', 'pure_pursuit_0.7_1.2_raceline_og_3', 'pure_pursuit_0.85_1.0_raceline_og', 'pure_pursuit_0.8_1.0_raceline', 'pure_pursuit_0.8_1.2_raceline_og_3', 'pure_pursuit_0.9_1.0_raceline', 'pure_pursuit_0.9_1.4_raceline_og_3', 'pure_pursuit_1.0_1.2_raceline']\n",
      "dataset original size:  77870\n",
      "dataset after removing indices size:  54182\n",
      "remaining agents: ['StochasticContinousFTGAgent_0.55_0_0.2_0.15_0.15_5.0_0.4_1.2'\n",
      " 'StochasticContinousFTGAgent_0.65_0_0.2_0.15_0.15_5.0_0.1'\n",
      " 'StochasticContinousFTGAgent_0.65_0_0.2_0.15_0.15_5.0_0.2_1.2'\n",
      " 'StochasticContinousFTGAgent_0.65_3_0.2_0.15_0.15_5.0_0.3'\n",
      " 'StochasticContinousFTGAgent_0.65_5_0.2_0.15_0.15_5.0_0.075'\n",
      " 'StochasticContinousFTGAgent_0.65_5_0.2_0.15_0.15_5.0_0.3'\n",
      " 'StochasticContinousFTGAgent_0.75_0_0.2_0.15_0.15_5.0_0.1'\n",
      " 'StochasticContinousFTGAgent_0.75_2_0.2_0.15_0.15_5.0_0.3'\n",
      " 'StochasticContinousFTGAgent_0.75_5_0.2_0.15_0.15_5.0_0.3'\n",
      " 'StochasticContinousFTGAgent_1.0_3_0.2_0.15_0.15_5.0_0.3'\n",
      " 'StochasticContinousFTGAgent_1.0_4_0.2_0.15_0.15_5.0_0.3'\n",
      " 'pure_pursuit2_0.8_1.2_raceline_og_3_0.6'\n",
      " 'pure_pursuit2_0.9_1.0_raceline_0.6_1.2'\n",
      " 'pure_pursuit_0.6_1.0_raceline_og_3' 'pure_pursuit_0.75_0.9_raceline_og'\n",
      " 'pure_pursuit_0.75_0.9_raceline_og_3' 'pure_pursuit_0.7_1.0_raceline_og'\n",
      " 'pure_pursuit_0.7_1.2_raceline_og_3' 'pure_pursuit_0.8_1.0_raceline'\n",
      " 'pure_pursuit_0.8_1.2_raceline_og_3' 'pure_pursuit_0.9_1.0_raceline'\n",
      " 'pure_pursuit_0.9_1.4_raceline_og_3']\n",
      "initial states torch.Size([231, 9])\n"
     ]
    }
   ],
   "source": [
    "from dataset import F110Dataset\n",
    "behavior_dataset = F110Dataset(\n",
    "    F110Env,\n",
    "    normalize_states=False,\n",
    "    normalize_rewards=False,\n",
    "    remove_agents= evaluation_agents,\n",
    "    #only_agents=['pure_pursuit_2.0_0.15'], #[\"StochasticContinousFTGAgent_0.15_5_0.2_0.15_2.0\"],\n",
    "    # = ['StochasticContinousFTGAgent_0.5_5_0.2_0.3_2.0',],\n",
    "    #                  'StochasticContinousFTGAgent_0.5_5_0.2_0.3_2.0',\n",
    "    #                  'StochasticContinousFTGAgent_5.0_2_0.2_0.3_2.0',\n",
    "    #                  'StochasticContinousFTGAgent_5.0_5_0.2_0.3_2.0'],#,'StochasticContinousFTGAgent_3.0_5_0.2_0.3_2.0'], #'progress_weight', 'raceline_delta_weight', 'min_action_weight'],#['det'], #+ [FLAGS.target_policy] , #+ [\"min_lida\", \"raceline\"],\n",
    "    \n",
    ")"
   ]
  },
  {
   "cell_type": "code",
   "execution_count": 133,
   "metadata": {},
   "outputs": [
    {
     "name": "stdout",
     "output_type": "stream",
     "text": [
      "using default path\n",
      "path: /home/fabian/.f110_rl_datasets/f110-real-v1\n",
      "The following agents are contained in the dataset: ['StochasticContinousFTGAgent_0.45_1_0.2_0.15_0.15_5.0_0.6_0.9', 'StochasticContinousFTGAgent_0.55_0_0.2_0.15_0.15_5.0_0.4_1.2', 'StochasticContinousFTGAgent_0.5_1_0.2_0.15_0.15_5.0_0.6_0.9', 'StochasticContinousFTGAgent_0.65_0_0.2_0.15_0.15_5.0_0.1', 'StochasticContinousFTGAgent_0.65_0_0.2_0.15_0.15_5.0_0.2_1.2', 'StochasticContinousFTGAgent_0.65_3_0.2_0.15_0.15_5.0_0.3', 'StochasticContinousFTGAgent_0.65_5_0.2_0.15_0.15_5.0_0.075', 'StochasticContinousFTGAgent_0.65_5_0.2_0.15_0.15_5.0_0.3', 'StochasticContinousFTGAgent_0.75_0_0.2_0.15_0.15_5.0_0.1', 'StochasticContinousFTGAgent_0.75_0_0.2_0.15_0.15_5.0_0.3', 'StochasticContinousFTGAgent_0.75_2_0.2_0.15_0.15_5.0_0.3', 'StochasticContinousFTGAgent_0.75_5_0.2_0.15_0.15_5.0_0.3', 'StochasticContinousFTGAgent_1.0_3_0.2_0.15_0.15_5.0_0.3', 'StochasticContinousFTGAgent_1.0_4_0.2_0.15_0.15_5.0_0.3', 'StochasticContinousFTGAgent_1.0_7_0.2_0.15_0.15_5.0_0.3', 'pure_pursuit2_0.8_1.2_raceline_og_3_0.6', 'pure_pursuit2_0.9_1.0_raceline_0.6_1.2', 'pure_pursuit_0.6_0.5_raceline_og_3', 'pure_pursuit_0.6_1.0_raceline_og_3', 'pure_pursuit_0.75_0.9_raceline_og', 'pure_pursuit_0.75_0.9_raceline_og_3', 'pure_pursuit_0.7_1.0_raceline_og', 'pure_pursuit_0.7_1.2_raceline_og_3', 'pure_pursuit_0.85_1.0_raceline_og', 'pure_pursuit_0.8_1.0_raceline', 'pure_pursuit_0.8_1.2_raceline_og_3', 'pure_pursuit_0.9_1.0_raceline', 'pure_pursuit_0.9_1.4_raceline_og_3', 'pure_pursuit_1.0_1.2_raceline']\n",
      "dataset original size:  77870\n",
      "dataset after removing indices size:  12705\n",
      "remaining agents: ['StochasticContinousFTGAgent_0.45_1_0.2_0.15_0.15_5.0_0.6_0.9'\n",
      " 'StochasticContinousFTGAgent_0.5_1_0.2_0.15_0.15_5.0_0.6_0.9'\n",
      " 'StochasticContinousFTGAgent_0.75_0_0.2_0.15_0.15_5.0_0.3'\n",
      " 'StochasticContinousFTGAgent_1.0_7_0.2_0.15_0.15_5.0_0.3'\n",
      " 'pure_pursuit_0.6_0.5_raceline_og_3' 'pure_pursuit_0.85_1.0_raceline_og'\n",
      " 'pure_pursuit_1.0_1.2_raceline']\n",
      "initial states torch.Size([66, 9])\n"
     ]
    }
   ],
   "source": [
    "eval_dataset = F110Dataset(\n",
    "    F110Env,\n",
    "    normalize_states=False,\n",
    "    normalize_rewards=False,\n",
    "    only_agents= evaluation_agents,\n",
    "    #only_agents=['pure_pursuit_2.0_0.15'], #[\"StochasticContinousFTGAgent_0.15_5_0.2_0.15_2.0\"],\n",
    "    # = ['StochasticContinousFTGAgent_0.5_5_0.2_0.3_2.0',],\n",
    "    #                  'StochasticContinousFTGAgent_0.5_5_0.2_0.3_2.0',\n",
    "    #                  'StochasticContinousFTGAgent_5.0_2_0.2_0.3_2.0',\n",
    "    #                  'StochasticContinousFTGAgent_5.0_5_0.2_0.3_2.0'],#,'StochasticContinousFTGAgent_3.0_5_0.2_0.3_2.0'], #'progress_weight', 'raceline_delta_weight', 'min_action_weight'],#['det'], #+ [FLAGS.target_policy] , #+ [\"min_lida\", \"raceline\"],\n",
    "    \n",
    ")"
   ]
  },
  {
   "cell_type": "code",
   "execution_count": 4,
   "metadata": {},
   "outputs": [
    {
     "name": "stdout",
     "output_type": "stream",
     "text": [
      "tensor([[ 1.6562e+00,  4.6847e+00, -8.9891e-01,  4.3814e-01,  5.5763e-04,\n",
      "         -1.6328e-01, -1.4024e-01,  0.0000e+00,  0.0000e+00]])\n",
      "['poses_x', 'poses_y', 'theta_sin', 'theta_cos', 'ang_vels_z', 'linear_vels_x', 'linear_vels_y', 'previous_action_steer', 'previous_action_speed']\n"
     ]
    }
   ],
   "source": [
    "print(behavior_dataset.unnormalize_states(behavior_dataset.states[0:1]))\n",
    "print(behavior_dataset.obs_keys)"
   ]
  },
  {
   "cell_type": "code",
   "execution_count": 134,
   "metadata": {},
   "outputs": [
    {
     "name": "stdout",
     "output_type": "stream",
     "text": [
      "Agent parameters {'speed_multiplier': 0.45, 'gap_blocker': 1, 'deterministic': True, 'std_steer': 0.15, 'std_vel': 0.15, 'max_delta': 0.6, 'max_speed': 5.0, 'min_speed': 0.9}\n"
     ]
    }
   ],
   "source": [
    "import torch\n",
    "import numpy as np\n",
    "from f110_agents.agent import Agent\n",
    "\n",
    "actor = Agent().load(f\"/home/fabian/msc/f110_dope/ws_release/config_1501/config/agent_configs/StochasticContinousFTGAgent_0.45_1_0.2_0.15_0.15_5.0_0.6_0.9.json\") # have to tidy this up\n",
    "\n",
    "subsample_laser = 20 \n",
    "\n",
    "\n",
    "\"\"\"\n",
    "@brief input shape is (batch_size, obs_dim), state needs to be normalized!!\n",
    "\"\"\"\n",
    "def get_target_actions(states, scans= None, action_timesteps=None, batch_size=5000):\n",
    "    num_batches = int(np.ceil(len(states) / batch_size))\n",
    "    actions_list = []\n",
    "    # batching, s.t. we dont run OOM\n",
    "    for i in range(num_batches):\n",
    "        start_idx = i * batch_size\n",
    "        end_idx = min((i + 1) * batch_size, len(states))\n",
    "        batch_states = states[start_idx:end_idx].clone()\n",
    "\n",
    "        # unnormalize from the dope dataset normalization\n",
    "        batch_states_unnorm = behavior_dataset.unnormalize_states(batch_states) # this needs batches\n",
    "        del batch_states\n",
    "        batch_states_unnorm = batch_states_unnorm.cpu().numpy()\n",
    "\n",
    "        # get scans\n",
    "        if scans is not None:\n",
    "            laser_scan = scans[start_idx:end_idx].cpu().numpy()\n",
    "        else:\n",
    "            laser_scan = F110Env.get_laser_scan(batch_states_unnorm, subsample_laser) # TODO! rename f110env to dataset_env\n",
    "            #print(\"Scan 1\")\n",
    "            #print(laser_scan)\n",
    "            laser_scan = F110Env.normalize_laser_scan(laser_scan)\n",
    "        #print(\"Scan 2\")\n",
    "        #print(laser_scan)\n",
    "        # back to dict\n",
    "        #print(batch_states_unnorm.shape)\n",
    "        model_input_dict = F110Env.unflatten_batch(batch_states_unnorm)\n",
    "        # normalize back to model input\n",
    "        # model_input_dict = model_input_normalizer.normalize_obs_batch(model_input_dict)\n",
    "        # now also append the laser scan\n",
    "        # print(model_input_dict)\n",
    "        model_input_dict['lidar_occupancy'] = laser_scan\n",
    "        #print(\"model input dict\")\n",
    "        #print(\"after unflattening\")\n",
    "        #print(model_input_dict)\n",
    "        batch_actions = actor(\n",
    "        model_input_dict,\n",
    "        std=None)[1]\n",
    "        #print(batch_actions)\n",
    "        \n",
    "        actions_list.append(batch_actions)\n",
    "    # tf.concat(actions_list, axis=0)\n",
    "    # with torch\n",
    "    # convert to torch tensor\n",
    "    actions_list = [torch.from_numpy(action) for action in actions_list]\n",
    "    actions = torch.concat(actions_list, axis=0)\n",
    "    # print(actions)\n",
    "    return actions.float()\n"
   ]
  },
  {
   "cell_type": "code",
   "execution_count": 6,
   "metadata": {},
   "outputs": [],
   "source": [
    "import os\n"
   ]
  },
  {
   "cell_type": "code",
   "execution_count": 237,
   "metadata": {},
   "outputs": [
    {
     "name": "stdout",
     "output_type": "stream",
     "text": [
      "torch.Size([7])\n"
     ]
    }
   ],
   "source": [
    "\n",
    "from model_based import ModelBased\n",
    "# reimport to get the new model based class\n",
    "from importlib import reload\n",
    "import model_based\n",
    "reload(model_based)\n",
    "from model_based import ModelBased\n",
    "\n",
    "model = ModelBased(F110Env, behavior_dataset.states.shape[1],\n",
    "                    behavior_dataset.actions.shape[1], \n",
    "                    hidden_size = [256,256,256,256],\n",
    "                    dt=1/20,\n",
    "                    min_state=behavior_dataset.states.min(axis=0)[0],\n",
    "                    max_state=behavior_dataset.states.max(axis=0)[0],\n",
    "                    dataset = behavior_dataset,\n",
    "                    fn_normalize=behavior_dataset.normalize_states,\n",
    "                    fn_unnormalize=behavior_dataset.unnormalize_states,\n",
    "                    obs_keys=behavior_dataset.obs_keys,\n",
    "                    learning_rate=1e-3,\n",
    "                    weight_decay=1e-5,\n",
    "                    target_reward=\"reward_progress.json\",\n",
    "                    logger=None,)\n"
   ]
  },
  {
   "cell_type": "code",
   "execution_count": 238,
   "metadata": {},
   "outputs": [],
   "source": [
    "from torch.utils.data import DataLoader\n",
    "def get_infinite_iterator(dataloader):\n",
    "    while True:\n",
    "        for data in dataloader:\n",
    "            yield data\n",
    "dataloader = DataLoader(behavior_dataset, batch_size=256, shuffle=True)\n",
    "inf_dataloader = get_infinite_iterator(dataloader)\n",
    "data_iter = iter(inf_dataloader)"
   ]
  },
  {
   "cell_type": "code",
   "execution_count": 239,
   "metadata": {},
   "outputs": [
    {
     "data": {
      "text/plain": [
       "0.5720097422599792"
      ]
     },
     "execution_count": 239,
     "metadata": {},
     "output_type": "execute_result"
    }
   ],
   "source": [
    "n = 10\n",
    "\n",
    "model.update(behavior_dataset.states[:n], behavior_dataset.actions[:n], \n",
    "             behavior_dataset.states_next[:n], \n",
    "             behavior_dataset.rewards[:n], \n",
    "             behavior_dataset.masks[:n])\n"
   ]
  },
  {
   "cell_type": "markdown",
   "metadata": {},
   "source": [
    "# Train Loop"
   ]
  },
  {
   "cell_type": "code",
   "execution_count": 240,
   "metadata": {},
   "outputs": [
    {
     "name": "stdout",
     "output_type": "stream",
     "text": [
      "tensor(54152.)\n",
      "54182\n"
     ]
    }
   ],
   "source": [
    "print(sum(behavior_dataset.masks))\n",
    "print(len(behavior_dataset.masks))"
   ]
  },
  {
   "cell_type": "code",
   "execution_count": 241,
   "metadata": {},
   "outputs": [
    {
     "name": "stderr",
     "output_type": "stream",
     "text": [
      "  1%|          | 1125/100000 [00:08<12:41, 129.77it/s]\n"
     ]
    },
    {
     "ename": "KeyboardInterrupt",
     "evalue": "",
     "output_type": "error",
     "traceback": [
      "\u001b[0;31m---------------------------------------------------------------------------\u001b[0m",
      "\u001b[0;31mKeyboardInterrupt\u001b[0m                         Traceback (most recent call last)",
      "Cell \u001b[0;32mIn[241], line 6\u001b[0m\n\u001b[1;32m      2\u001b[0m pbar \u001b[38;5;241m=\u001b[39m tqdm(\u001b[38;5;28mrange\u001b[39m(\u001b[38;5;241m100000\u001b[39m), mininterval\u001b[38;5;241m=\u001b[39m\u001b[38;5;241m5.0\u001b[39m)\n\u001b[1;32m      4\u001b[0m \u001b[38;5;28;01mfor\u001b[39;00m i \u001b[38;5;129;01min\u001b[39;00m pbar:\n\u001b[1;32m      5\u001b[0m     (states, scans, actions, next_states, next_scans, rewards, masks, weights,\n\u001b[0;32m----> 6\u001b[0m     log_prob) \u001b[38;5;241m=\u001b[39m \u001b[38;5;28;43mnext\u001b[39;49m\u001b[43m(\u001b[49m\u001b[43mdata_iter\u001b[49m\u001b[43m)\u001b[49m\n\u001b[1;32m      8\u001b[0m     loss\u001b[38;5;241m=\u001b[39m model\u001b[38;5;241m.\u001b[39mupdate(states, actions, next_states, rewards, masks)\n\u001b[1;32m      9\u001b[0m     \u001b[38;5;66;03m#if i % 100 == 0:\u001b[39;00m\n\u001b[1;32m     10\u001b[0m     \u001b[38;5;66;03m#    print(loss)\u001b[39;00m\n",
      "Cell \u001b[0;32mIn[238], line 4\u001b[0m, in \u001b[0;36mget_infinite_iterator\u001b[0;34m(dataloader)\u001b[0m\n\u001b[1;32m      2\u001b[0m \u001b[38;5;28;01mdef\u001b[39;00m \u001b[38;5;21mget_infinite_iterator\u001b[39m(dataloader):\n\u001b[1;32m      3\u001b[0m     \u001b[38;5;28;01mwhile\u001b[39;00m \u001b[38;5;28;01mTrue\u001b[39;00m:\n\u001b[0;32m----> 4\u001b[0m         \u001b[38;5;28;01mfor\u001b[39;00m data \u001b[38;5;129;01min\u001b[39;00m dataloader:\n\u001b[1;32m      5\u001b[0m             \u001b[38;5;28;01myield\u001b[39;00m data\n",
      "File \u001b[0;32m~/miniconda3/envs/release/lib/python3.8/site-packages/torch/utils/data/dataloader.py:630\u001b[0m, in \u001b[0;36m_BaseDataLoaderIter.__next__\u001b[0;34m(self)\u001b[0m\n\u001b[1;32m    627\u001b[0m \u001b[38;5;28;01mif\u001b[39;00m \u001b[38;5;28mself\u001b[39m\u001b[38;5;241m.\u001b[39m_sampler_iter \u001b[38;5;129;01mis\u001b[39;00m \u001b[38;5;28;01mNone\u001b[39;00m:\n\u001b[1;32m    628\u001b[0m     \u001b[38;5;66;03m# TODO(https://github.com/pytorch/pytorch/issues/76750)\u001b[39;00m\n\u001b[1;32m    629\u001b[0m     \u001b[38;5;28mself\u001b[39m\u001b[38;5;241m.\u001b[39m_reset()  \u001b[38;5;66;03m# type: ignore[call-arg]\u001b[39;00m\n\u001b[0;32m--> 630\u001b[0m data \u001b[38;5;241m=\u001b[39m \u001b[38;5;28;43mself\u001b[39;49m\u001b[38;5;241;43m.\u001b[39;49m\u001b[43m_next_data\u001b[49m\u001b[43m(\u001b[49m\u001b[43m)\u001b[49m\n\u001b[1;32m    631\u001b[0m \u001b[38;5;28mself\u001b[39m\u001b[38;5;241m.\u001b[39m_num_yielded \u001b[38;5;241m+\u001b[39m\u001b[38;5;241m=\u001b[39m \u001b[38;5;241m1\u001b[39m\n\u001b[1;32m    632\u001b[0m \u001b[38;5;28;01mif\u001b[39;00m \u001b[38;5;28mself\u001b[39m\u001b[38;5;241m.\u001b[39m_dataset_kind \u001b[38;5;241m==\u001b[39m _DatasetKind\u001b[38;5;241m.\u001b[39mIterable \u001b[38;5;129;01mand\u001b[39;00m \\\n\u001b[1;32m    633\u001b[0m         \u001b[38;5;28mself\u001b[39m\u001b[38;5;241m.\u001b[39m_IterableDataset_len_called \u001b[38;5;129;01mis\u001b[39;00m \u001b[38;5;129;01mnot\u001b[39;00m \u001b[38;5;28;01mNone\u001b[39;00m \u001b[38;5;129;01mand\u001b[39;00m \\\n\u001b[1;32m    634\u001b[0m         \u001b[38;5;28mself\u001b[39m\u001b[38;5;241m.\u001b[39m_num_yielded \u001b[38;5;241m>\u001b[39m \u001b[38;5;28mself\u001b[39m\u001b[38;5;241m.\u001b[39m_IterableDataset_len_called:\n",
      "File \u001b[0;32m~/miniconda3/envs/release/lib/python3.8/site-packages/torch/utils/data/dataloader.py:674\u001b[0m, in \u001b[0;36m_SingleProcessDataLoaderIter._next_data\u001b[0;34m(self)\u001b[0m\n\u001b[1;32m    672\u001b[0m \u001b[38;5;28;01mdef\u001b[39;00m \u001b[38;5;21m_next_data\u001b[39m(\u001b[38;5;28mself\u001b[39m):\n\u001b[1;32m    673\u001b[0m     index \u001b[38;5;241m=\u001b[39m \u001b[38;5;28mself\u001b[39m\u001b[38;5;241m.\u001b[39m_next_index()  \u001b[38;5;66;03m# may raise StopIteration\u001b[39;00m\n\u001b[0;32m--> 674\u001b[0m     data \u001b[38;5;241m=\u001b[39m \u001b[38;5;28;43mself\u001b[39;49m\u001b[38;5;241;43m.\u001b[39;49m\u001b[43m_dataset_fetcher\u001b[49m\u001b[38;5;241;43m.\u001b[39;49m\u001b[43mfetch\u001b[49m\u001b[43m(\u001b[49m\u001b[43mindex\u001b[49m\u001b[43m)\u001b[49m  \u001b[38;5;66;03m# may raise StopIteration\u001b[39;00m\n\u001b[1;32m    675\u001b[0m     \u001b[38;5;28;01mif\u001b[39;00m \u001b[38;5;28mself\u001b[39m\u001b[38;5;241m.\u001b[39m_pin_memory:\n\u001b[1;32m    676\u001b[0m         data \u001b[38;5;241m=\u001b[39m _utils\u001b[38;5;241m.\u001b[39mpin_memory\u001b[38;5;241m.\u001b[39mpin_memory(data, \u001b[38;5;28mself\u001b[39m\u001b[38;5;241m.\u001b[39m_pin_memory_device)\n",
      "File \u001b[0;32m~/miniconda3/envs/release/lib/python3.8/site-packages/torch/utils/data/_utils/fetch.py:54\u001b[0m, in \u001b[0;36m_MapDatasetFetcher.fetch\u001b[0;34m(self, possibly_batched_index)\u001b[0m\n\u001b[1;32m     52\u001b[0m \u001b[38;5;28;01melse\u001b[39;00m:\n\u001b[1;32m     53\u001b[0m     data \u001b[38;5;241m=\u001b[39m \u001b[38;5;28mself\u001b[39m\u001b[38;5;241m.\u001b[39mdataset[possibly_batched_index]\n\u001b[0;32m---> 54\u001b[0m \u001b[38;5;28;01mreturn\u001b[39;00m \u001b[38;5;28;43mself\u001b[39;49m\u001b[38;5;241;43m.\u001b[39;49m\u001b[43mcollate_fn\u001b[49m\u001b[43m(\u001b[49m\u001b[43mdata\u001b[49m\u001b[43m)\u001b[49m\n",
      "File \u001b[0;32m~/miniconda3/envs/release/lib/python3.8/site-packages/torch/utils/data/_utils/collate.py:265\u001b[0m, in \u001b[0;36mdefault_collate\u001b[0;34m(batch)\u001b[0m\n\u001b[1;32m    204\u001b[0m \u001b[38;5;28;01mdef\u001b[39;00m \u001b[38;5;21mdefault_collate\u001b[39m(batch):\n\u001b[1;32m    205\u001b[0m \u001b[38;5;250m    \u001b[39m\u001b[38;5;124mr\u001b[39m\u001b[38;5;124;03m\"\"\"\u001b[39;00m\n\u001b[1;32m    206\u001b[0m \u001b[38;5;124;03m        Function that takes in a batch of data and puts the elements within the batch\u001b[39;00m\n\u001b[1;32m    207\u001b[0m \u001b[38;5;124;03m        into a tensor with an additional outer dimension - batch size. The exact output type can be\u001b[39;00m\n\u001b[0;32m   (...)\u001b[0m\n\u001b[1;32m    263\u001b[0m \u001b[38;5;124;03m            >>> default_collate(batch)  # Handle `CustomType` automatically\u001b[39;00m\n\u001b[1;32m    264\u001b[0m \u001b[38;5;124;03m    \"\"\"\u001b[39;00m\n\u001b[0;32m--> 265\u001b[0m     \u001b[38;5;28;01mreturn\u001b[39;00m \u001b[43mcollate\u001b[49m\u001b[43m(\u001b[49m\u001b[43mbatch\u001b[49m\u001b[43m,\u001b[49m\u001b[43m \u001b[49m\u001b[43mcollate_fn_map\u001b[49m\u001b[38;5;241;43m=\u001b[39;49m\u001b[43mdefault_collate_fn_map\u001b[49m\u001b[43m)\u001b[49m\n",
      "File \u001b[0;32m~/miniconda3/envs/release/lib/python3.8/site-packages/torch/utils/data/_utils/collate.py:142\u001b[0m, in \u001b[0;36mcollate\u001b[0;34m(batch, collate_fn_map)\u001b[0m\n\u001b[1;32m    139\u001b[0m transposed \u001b[38;5;241m=\u001b[39m \u001b[38;5;28mlist\u001b[39m(\u001b[38;5;28mzip\u001b[39m(\u001b[38;5;241m*\u001b[39mbatch))  \u001b[38;5;66;03m# It may be accessed twice, so we use a list.\u001b[39;00m\n\u001b[1;32m    141\u001b[0m \u001b[38;5;28;01mif\u001b[39;00m \u001b[38;5;28misinstance\u001b[39m(elem, \u001b[38;5;28mtuple\u001b[39m):\n\u001b[0;32m--> 142\u001b[0m     \u001b[38;5;28;01mreturn\u001b[39;00m [collate(samples, collate_fn_map\u001b[38;5;241m=\u001b[39mcollate_fn_map) \u001b[38;5;28;01mfor\u001b[39;00m samples \u001b[38;5;129;01min\u001b[39;00m transposed]  \u001b[38;5;66;03m# Backwards compatibility.\u001b[39;00m\n\u001b[1;32m    143\u001b[0m \u001b[38;5;28;01melse\u001b[39;00m:\n\u001b[1;32m    144\u001b[0m     \u001b[38;5;28;01mtry\u001b[39;00m:\n",
      "File \u001b[0;32m~/miniconda3/envs/release/lib/python3.8/site-packages/torch/utils/data/_utils/collate.py:142\u001b[0m, in \u001b[0;36m<listcomp>\u001b[0;34m(.0)\u001b[0m\n\u001b[1;32m    139\u001b[0m transposed \u001b[38;5;241m=\u001b[39m \u001b[38;5;28mlist\u001b[39m(\u001b[38;5;28mzip\u001b[39m(\u001b[38;5;241m*\u001b[39mbatch))  \u001b[38;5;66;03m# It may be accessed twice, so we use a list.\u001b[39;00m\n\u001b[1;32m    141\u001b[0m \u001b[38;5;28;01mif\u001b[39;00m \u001b[38;5;28misinstance\u001b[39m(elem, \u001b[38;5;28mtuple\u001b[39m):\n\u001b[0;32m--> 142\u001b[0m     \u001b[38;5;28;01mreturn\u001b[39;00m [\u001b[43mcollate\u001b[49m\u001b[43m(\u001b[49m\u001b[43msamples\u001b[49m\u001b[43m,\u001b[49m\u001b[43m \u001b[49m\u001b[43mcollate_fn_map\u001b[49m\u001b[38;5;241;43m=\u001b[39;49m\u001b[43mcollate_fn_map\u001b[49m\u001b[43m)\u001b[49m \u001b[38;5;28;01mfor\u001b[39;00m samples \u001b[38;5;129;01min\u001b[39;00m transposed]  \u001b[38;5;66;03m# Backwards compatibility.\u001b[39;00m\n\u001b[1;32m    143\u001b[0m \u001b[38;5;28;01melse\u001b[39;00m:\n\u001b[1;32m    144\u001b[0m     \u001b[38;5;28;01mtry\u001b[39;00m:\n",
      "File \u001b[0;32m~/miniconda3/envs/release/lib/python3.8/site-packages/torch/utils/data/_utils/collate.py:119\u001b[0m, in \u001b[0;36mcollate\u001b[0;34m(batch, collate_fn_map)\u001b[0m\n\u001b[1;32m    117\u001b[0m \u001b[38;5;28;01mif\u001b[39;00m collate_fn_map \u001b[38;5;129;01mis\u001b[39;00m \u001b[38;5;129;01mnot\u001b[39;00m \u001b[38;5;28;01mNone\u001b[39;00m:\n\u001b[1;32m    118\u001b[0m     \u001b[38;5;28;01mif\u001b[39;00m elem_type \u001b[38;5;129;01min\u001b[39;00m collate_fn_map:\n\u001b[0;32m--> 119\u001b[0m         \u001b[38;5;28;01mreturn\u001b[39;00m \u001b[43mcollate_fn_map\u001b[49m\u001b[43m[\u001b[49m\u001b[43melem_type\u001b[49m\u001b[43m]\u001b[49m\u001b[43m(\u001b[49m\u001b[43mbatch\u001b[49m\u001b[43m,\u001b[49m\u001b[43m \u001b[49m\u001b[43mcollate_fn_map\u001b[49m\u001b[38;5;241;43m=\u001b[39;49m\u001b[43mcollate_fn_map\u001b[49m\u001b[43m)\u001b[49m\n\u001b[1;32m    121\u001b[0m     \u001b[38;5;28;01mfor\u001b[39;00m collate_type \u001b[38;5;129;01min\u001b[39;00m collate_fn_map:\n\u001b[1;32m    122\u001b[0m         \u001b[38;5;28;01mif\u001b[39;00m \u001b[38;5;28misinstance\u001b[39m(elem, collate_type):\n",
      "File \u001b[0;32m~/miniconda3/envs/release/lib/python3.8/site-packages/torch/utils/data/_utils/collate.py:162\u001b[0m, in \u001b[0;36mcollate_tensor_fn\u001b[0;34m(batch, collate_fn_map)\u001b[0m\n\u001b[1;32m    160\u001b[0m     storage \u001b[38;5;241m=\u001b[39m elem\u001b[38;5;241m.\u001b[39m_typed_storage()\u001b[38;5;241m.\u001b[39m_new_shared(numel, device\u001b[38;5;241m=\u001b[39melem\u001b[38;5;241m.\u001b[39mdevice)\n\u001b[1;32m    161\u001b[0m     out \u001b[38;5;241m=\u001b[39m elem\u001b[38;5;241m.\u001b[39mnew(storage)\u001b[38;5;241m.\u001b[39mresize_(\u001b[38;5;28mlen\u001b[39m(batch), \u001b[38;5;241m*\u001b[39m\u001b[38;5;28mlist\u001b[39m(elem\u001b[38;5;241m.\u001b[39msize()))\n\u001b[0;32m--> 162\u001b[0m \u001b[38;5;28;01mreturn\u001b[39;00m \u001b[43mtorch\u001b[49m\u001b[38;5;241;43m.\u001b[39;49m\u001b[43mstack\u001b[49m\u001b[43m(\u001b[49m\u001b[43mbatch\u001b[49m\u001b[43m,\u001b[49m\u001b[43m \u001b[49m\u001b[38;5;241;43m0\u001b[39;49m\u001b[43m,\u001b[49m\u001b[43m \u001b[49m\u001b[43mout\u001b[49m\u001b[38;5;241;43m=\u001b[39;49m\u001b[43mout\u001b[49m\u001b[43m)\u001b[49m\n",
      "\u001b[0;31mKeyboardInterrupt\u001b[0m: "
     ]
    }
   ],
   "source": [
    "from tqdm import tqdm\n",
    "pbar = tqdm(range(100000), mininterval=5.0)\n",
    "\n",
    "for i in pbar:\n",
    "    (states, scans, actions, next_states, next_scans, rewards, masks, weights,\n",
    "    log_prob) = next(data_iter)\n",
    "\n",
    "    loss= model.update(states, actions, next_states, rewards, masks)\n",
    "    #if i % 100 == 0:\n",
    "    #    print(loss)"
   ]
  },
  {
   "cell_type": "code",
   "execution_count": 243,
   "metadata": {},
   "outputs": [],
   "source": [
    "# extract inital states from the dataset\n",
    "initial_states =  eval_dataset.states[eval_dataset.mask_inital]\n"
   ]
  },
  {
   "cell_type": "code",
   "execution_count": null,
   "metadata": {},
   "outputs": [],
   "source": [
    "model.estimate_returns(initial_states, get_target_action=get_target_actions)"
   ]
  },
  {
   "cell_type": "code",
   "execution_count": 108,
   "metadata": {},
   "outputs": [
    {
     "name": "stdout",
     "output_type": "stream",
     "text": [
      "torch.Size([256, 9])\n"
     ]
    }
   ],
   "source": [
    "print(states.shape)"
   ]
  },
  {
   "cell_type": "code",
   "execution_count": 109,
   "metadata": {},
   "outputs": [
    {
     "data": {
      "text/plain": [
       "[<matplotlib.lines.Line2D at 0x7f48b6332280>]"
      ]
     },
     "execution_count": 109,
     "metadata": {},
     "output_type": "execute_result"
    },
    {
     "data": {
      "image/png": "[encoded data removed]",
      "text/plain": [
       "<Figure size 640x480 with 1 Axes>"
      ]
     },
     "metadata": {},
     "output_type": "display_data"
    }
   ],
   "source": [
    "# plot the x and y position of the first 10 states\n",
    "import matplotlib.pyplot as plt\n",
    "plt.plot( behavior_dataset.states[:30,0],  behavior_dataset.states[:30,1])"
   ]
  },
  {
   "cell_type": "code",
   "execution_count": 135,
   "metadata": {},
   "outputs": [
    {
     "name": "stdout",
     "output_type": "stream",
     "text": [
      "0.6967592835426331\n",
      "torch.Size([1, 100, 9])\n"
     ]
    }
   ],
   "source": [
    "print(loss)\n",
    "batch_size = 100\n",
    "horizon = 100\n",
    "print(states.shape)\n",
    "states = eval_dataset.states[:horizon].reshape(1,horizon,-1)\n",
    "actions = eval_dataset.actions[:horizon].reshape(1,horizon,-1)\n",
    "# states \n"
   ]
  },
  {
   "cell_type": "code",
   "execution_count": 136,
   "metadata": {},
   "outputs": [
    {
     "name": "stdout",
     "output_type": "stream",
     "text": [
      "['poses_x', 'poses_y', 'theta_sin', 'theta_cos', 'ang_vels_z', 'linear_vels_x', 'linear_vels_y', 'previous_action_steer', 'previous_action_speed']\n"
     ]
    }
   ],
   "source": [
    "print(behavior_dataset.obs_keys)"
   ]
  },
  {
   "cell_type": "code",
   "execution_count": 137,
   "metadata": {},
   "outputs": [
    {
     "name": "stdout",
     "output_type": "stream",
     "text": [
      "Agent parameters {'speed_multiplier': 0.55, 'gap_blocker': 0, 'deterministic': True, 'std_steer': 0.15, 'std_vel': 0.15, 'max_delta': 0.4, 'max_speed': 5.0, 'min_speed': 1.2}\n"
     ]
    }
   ],
   "source": [
    "\n",
    "actor = Agent().load(f\"/home/fabian/msc/f110_dope/ws_release/config_1501/config/agent_configs/StochasticContinousFTGAgent_0.55_0_0.2_0.15_0.15_5.0_0.4_1.2.json\") # have to tidy this up\n",
    "\n",
    "subsample_laser = 20 \n",
    "\n",
    "\n",
    "\"\"\"\n",
    "@brief input shape is (batch_size, obs_dim), state needs to be normalized!!\n",
    "\"\"\"\n",
    "def get_target_actions(states, scans= None, action_timesteps=None, batch_size=5000):\n",
    "    num_batches = int(np.ceil(len(states) / batch_size))\n",
    "    actions_list = []\n",
    "    # batching, s.t. we dont run OOM\n",
    "    for i in range(num_batches):\n",
    "        start_idx = i * batch_size\n",
    "        end_idx = min((i + 1) * batch_size, len(states))\n",
    "        batch_states = states[start_idx:end_idx].clone()\n",
    "\n",
    "        # unnormalize from the dope dataset normalization\n",
    "        batch_states_unnorm = behavior_dataset.unnormalize_states(batch_states) # this needs batches\n",
    "        del batch_states\n",
    "        batch_states_unnorm = batch_states_unnorm.cpu().numpy()\n",
    "\n",
    "        # get scans\n",
    "        if scans is not None:\n",
    "            laser_scan = scans[start_idx:end_idx].cpu().numpy()\n",
    "        else:\n",
    "            laser_scan = F110Env.get_laser_scan(batch_states_unnorm, subsample_laser) # TODO! rename f110env to dataset_env\n",
    "            #print(\"Scan 1\")\n",
    "            #print(laser_scan)\n",
    "            laser_scan = F110Env.normalize_laser_scan(laser_scan)\n",
    "        #print(\"Scan 2\")\n",
    "        #print(laser_scan)\n",
    "        # back to dict\n",
    "        #print(batch_states_unnorm.shape)\n",
    "        model_input_dict = F110Env.unflatten_batch(batch_states_unnorm)\n",
    "        # normalize back to model input\n",
    "        # model_input_dict = model_input_normalizer.normalize_obs_batch(model_input_dict)\n",
    "        # now also append the laser scan\n",
    "        # print(model_input_dict)\n",
    "        model_input_dict['lidar_occupancy'] = laser_scan\n",
    "        #print(\"model input dict\")\n",
    "        #print(\"after unflattening\")\n",
    "        #print(model_input_dict)\n",
    "        batch_actions = actor(\n",
    "        model_input_dict,\n",
    "        std=None)[1]\n",
    "        #print(batch_actions)\n",
    "        \n",
    "        actions_list.append(batch_actions)\n",
    "    # tf.concat(actions_list, axis=0)\n",
    "    # with torch\n",
    "    # convert to torch tensor\n",
    "    actions_list = [torch.from_numpy(action) for action in actions_list]\n",
    "    actions = torch.concat(actions_list, axis=0)\n",
    "    # print(actions)\n",
    "    return actions.float()"
   ]
  },
  {
   "cell_type": "code",
   "execution_count": 138,
   "metadata": {},
   "outputs": [
    {
     "name": "stdout",
     "output_type": "stream",
     "text": [
      "torch.Size([1, 100, 9])\n",
      "torch.Size([1, 100, 2])\n"
     ]
    }
   ],
   "source": [
    "print(states.shape)\n",
    "print(actions.shape)\n",
    "#get_target_action = None\n",
    "use_dynamics = True"
   ]
  },
  {
   "cell_type": "code",
   "execution_count": 143,
   "metadata": {},
   "outputs": [],
   "source": [
    "states_inf, actions_inf = model.rollout(states, actions, get_target_action=get_target_actions, horizon=100)"
   ]
  },
  {
   "cell_type": "code",
   "execution_count": 144,
   "metadata": {},
   "outputs": [
    {
     "name": "stdout",
     "output_type": "stream",
     "text": [
      "torch.Size([1, 100, 9])\n"
     ]
    },
    {
     "data": {
      "image/png": "[encoded data removed]",
      "text/plain": [
       "<Figure size 640x480 with 1 Axes>"
      ]
     },
     "metadata": {},
     "output_type": "display_data"
    }
   ],
   "source": [
    "print(states_inf.shape)\n",
    "# plot the x and y position of the first 10 states\n",
    "import matplotlib.pyplot as plt\n",
    "plt.plot( states_inf[0,:,0],  states_inf[0,:,1], label=\"model\")\n",
    "plt.plot( states_inf[0,:,0],  states_inf[0,:,1],'o' ,label=\"model\")\n",
    "# plot the first 100 states from the behavior dataset\n",
    "plt.plot(eval_dataset.states[:100,0],  eval_dataset.states[:100,1], label=\"behavior\")\n",
    "plt.plot(eval_dataset.states[:100,0],  eval_dataset.states[:100,1],'o', label=\"behavior\")\n",
    "plt.legend()\n",
    "plt.show()"
   ]
  },
  {
   "cell_type": "code",
   "execution_count": 219,
   "metadata": {},
   "outputs": [],
   "source": [
    "import numpy as np\n",
    "from PIL import Image\n",
    "import yaml\n",
    "def is_drivable(yaml_path, poses):\n",
    "    # Load map metadata\n",
    "    with open(yaml_path, 'r') as file:\n",
    "        map_metadata = yaml.safe_load(file)\n",
    "\n",
    "    # Load the map image\n",
    "    map_image_path = os.path.join(os.path.dirname(yaml_path), map_metadata['image'])\n",
    "    map_image = Image.open(map_image_path)\n",
    "    map_array = np.array(map_image)\n",
    "\n",
    "    # Map parameters\n",
    "    resolution = map_metadata['resolution']  # meters per pixel\n",
    "    origin = map_metadata['origin']  # [x, y, theta]\n",
    "    occupied_thresh = map_metadata['occupied_thresh']\n",
    "\n",
    "    # Convert poses to pixel coordinates, invert y-axis\n",
    "    pixel_poses = poses.copy()\n",
    "    pixel_poses[:, 0] = (pixel_poses[:, 0] - origin[0]) / resolution\n",
    "    pixel_poses[:, 1] = map_array.shape[0] - 1 - ((pixel_poses[:, 1] - origin[1]) / resolution)\n",
    "    pixel_poses = pixel_poses.astype(int)\n",
    "\n",
    "    # Check bounds\n",
    "    in_bounds = (pixel_poses[:, 0] >= 0) & (pixel_poses[:, 0] < map_array.shape[1]) & \\\n",
    "                (pixel_poses[:, 1] >= 0) & (pixel_poses[:, 1] < map_array.shape[0])\n",
    "\n",
    "    # Check if the area is drivable (not occupied)\n",
    "    # Assuming drivable area is white (high pixel value)\n",
    "    drivable_threshold = int(255 * (1 - occupied_thresh))\n",
    "    is_drivable = np.array([map_array[pixel_y, pixel_x] > drivable_threshold if in_bounds[i] else False \n",
    "                            for i, (pixel_x, pixel_y) in enumerate(pixel_poses)])\n",
    "    first_false = np.where(is_drivable == False)[0]\n",
    "    print(first_false)\n",
    "    if len(first_false) > 0:\n",
    "        first_false = first_false[0]\n",
    "        is_drivable[first_false:] = False\n",
    "    return is_drivable"
   ]
  },
  {
   "cell_type": "code",
   "execution_count": 156,
   "metadata": {},
   "outputs": [],
   "source": [
    "# first get started by converting the states back to the unnormalized states\n",
    "states_unnorm = eval_dataset.unnormalize_states(states_inf)"
   ]
  },
  {
   "cell_type": "code",
   "execution_count": 157,
   "metadata": {},
   "outputs": [],
   "source": [
    "# in order to calculate the reward we need first two x and y, last progress. That mean\n",
    "# 1) calculate the progress and append it to the states\n",
    "# all the obs:\n",
    "#calculate the progress\n",
    "from f110_orl_dataset.compute_progress import Progress, Track\n",
    "progress_obs_np = np.zeros((states_inf.shape[0],states_inf.shape[1],1))\n",
    "track_path = \"/home/fabian/msc/f110_dope/ws_release/f1tenth_gym/gym/f110_gym/maps/Infsaal2/Infsaal2_centerline.csv\"\n",
    "track = Track(track_path)\n",
    "progress = Progress(track, lookahead=200)\n",
    "pose = lambda traj_num, timestep: np.array([(states_unnorm[traj_num,timestep,0],states_unnorm[traj_num,timestep,1])])\n",
    "for i in range(0,states_unnorm.shape[0]):\n",
    "    # progress = Progress(states_inf[i,0,:])\n",
    "    progress.reset(pose(i,0))\n",
    "    for j in range(0,states_unnorm.shape[1]):\n",
    "        progress_obs_np[i,j,0] = progress.get_progress(pose(i,j))\n",
    "\n"
   ]
  },
  {
   "cell_type": "code",
   "execution_count": 158,
   "metadata": {},
   "outputs": [],
   "source": [
    "# then we append the progress to the states\n",
    "states_unnorm = np.concatenate((states_unnorm, progress_obs_np), axis=2)\n",
    "\n",
    "\n"
   ]
  },
  {
   "cell_type": "code",
   "execution_count": 160,
   "metadata": {},
   "outputs": [],
   "source": [
    "# also append zeros to the states, as a placeholder, since this should be times\n",
    "states_unnorm = np.concatenate((states_unnorm, np.zeros((states_unnorm.shape[0],states_unnorm.shape[1],1))), axis=2)\n"
   ]
  },
  {
   "cell_type": "code",
   "execution_count": 220,
   "metadata": {},
   "outputs": [
    {
     "name": "stdout",
     "output_type": "stream",
     "text": [
      "[]\n"
     ]
    }
   ],
   "source": [
    "map = \"/home/fabian/msc/f110_dope/ws_release/f1tenth_gym/gym/f110_gym/maps/Infsaal2/Infsaal2_map.yaml\"\n",
    "drivable = is_drivable(map,\n",
    "            states_unnorm[0,:,0:2])\n",
    "# if there is a False in drivable set all consequent values to False\n"
   ]
  },
  {
   "cell_type": "code",
   "execution_count": 221,
   "metadata": {},
   "outputs": [
    {
     "name": "stdout",
     "output_type": "stream",
     "text": [
      "[ True  True  True  True  True  True  True  True  True  True  True  True\n",
      "  True  True  True  True  True  True  True  True  True  True  True  True\n",
      "  True  True  True  True  True  True  True  True  True  True  True  True\n",
      "  True  True  True  True  True  True  True  True  True  True  True  True\n",
      "  True  True  True  True  True  True  True  True  True  True  True  True\n",
      "  True  True  True  True  True  True  True  True  True  True  True  True\n",
      "  True  True  True  True  True  True  True  True  True  True  True  True\n",
      "  True  True  True  True  True  True  True  True  True  True  True  True\n",
      "  True  True  True  True]\n"
     ]
    }
   ],
   "source": [
    "print(drivable)"
   ]
  },
  {
   "cell_type": "code",
   "execution_count": 212,
   "metadata": {},
   "outputs": [],
   "source": [
    "def plot_poses_on_map(yaml_path, poses, is_drivable):\n",
    "    # Load map metadata\n",
    "    with open(yaml_path, 'r') as file:\n",
    "        map_metadata = yaml.safe_load(file)\n",
    "\n",
    "    # Construct the path for the map image\n",
    "    map_image_path = os.path.join(os.path.dirname(yaml_path), map_metadata['image'])\n",
    "    map_image = Image.open(map_image_path)\n",
    "    map_array = np.array(map_image)\n",
    "\n",
    "    # Display the map\n",
    "    plt.imshow(map_image, cmap='gray')\n",
    "\n",
    "    # Map parameters\n",
    "    resolution = map_metadata['resolution']\n",
    "    origin = map_metadata['origin']\n",
    "\n",
    "    # Convert poses to pixel coordinates, invert y-axis\n",
    "    pixel_poses = poses.copy()\n",
    "    pixel_poses[:, 0] = (pixel_poses[:, 0] - origin[0]) / resolution\n",
    "    pixel_poses[:, 1] = map_array.shape[0] - ((pixel_poses[:, 1] - origin[1]) / resolution)\n",
    "\n",
    "    # Plot each pose\n",
    "    for pose, drivable in zip(pixel_poses, is_drivable):\n",
    "        if drivable:\n",
    "            plt.plot(pose[0], pose[1], 'o', color='green')  # Drivable: green circle\n",
    "        else:\n",
    "            plt.plot(pose[0], pose[1], 'x', color='red')  # Not drivable: red x\n",
    "\n",
    "    # Add legend\n",
    "    drivable_patch = mpatches.Patch(color='green', label='Drivable')\n",
    "    not_drivable_patch = mpatches.Patch(color='red', label='Not Drivable')\n",
    "    plt.legend(handles=[drivable_patch, not_drivable_patch])\n",
    "\n",
    "    plt.gca().invert_yaxis()  # Invert y-axis to match ROS map orientation\n",
    "    plt.xlabel('Pixel X')\n",
    "    plt.ylabel('Pixel Y')\n",
    "    plt.title('Poses on Map')\n",
    "    plt.show()"
   ]
  },
  {
   "cell_type": "code",
   "execution_count": 213,
   "metadata": {},
   "outputs": [
    {
     "name": "stdout",
     "output_type": "stream",
     "text": [
      "/home/fabian/msc/f110_dope/ws_release/f1tenth_gym/gym/f110_gym/maps/Infsaal2/Infsaal2_map.yaml\n"
     ]
    }
   ],
   "source": [
    "print(map)"
   ]
  },
  {
   "cell_type": "code",
   "execution_count": 214,
   "metadata": {},
   "outputs": [
    {
     "data": {
      "image/png": "[encoded data removed]",
      "text/plain": [
       "<Figure size 640x480 with 1 Axes>"
      ]
     },
     "metadata": {},
     "output_type": "display_data"
    }
   ],
   "source": [
    "plot_poses_on_map(map, np.array(eval_dataset.states[:100,0:2]), drivable)"
   ]
  },
  {
   "cell_type": "code",
   "execution_count": 215,
   "metadata": {},
   "outputs": [
    {
     "name": "stdout",
     "output_type": "stream",
     "text": [
      "tensor([[8.3287, 3.7933],\n",
      "        [8.3244, 3.7967]])\n",
      "[[8.3286953  3.7932992 ]\n",
      " [8.3454752  3.81386948]]\n"
     ]
    }
   ],
   "source": [
    "print(eval_dataset.states[:2,0:2])\n",
    "print(states_unnorm[0,:2,:2])"
   ]
  },
  {
   "cell_type": "code",
   "execution_count": 216,
   "metadata": {},
   "outputs": [
    {
     "data": {
      "image/png": "[encoded data removed]",
      "text/plain": [
       "<Figure size 640x480 with 1 Axes>"
      ]
     },
     "metadata": {},
     "output_type": "display_data"
    }
   ],
   "source": [
    "plot_poses_on_map(map, states_unnorm[0,:,0:2], drivable)"
   ]
  },
  {
   "cell_type": "code",
   "execution_count": 164,
   "metadata": {},
   "outputs": [],
   "source": [
    "actions_unnorm = F110Env.get_specific_obs(states_unnorm[0], [\"previous_action_steer\",\"previous_action_speed\"])# now the states are in the right shape, lets quickly extract the actions\n"
   ]
  },
  {
   "cell_type": "markdown",
   "metadata": {},
   "source": [
    "print(actions_unnorm)\n",
    "print()"
   ]
  },
  {
   "cell_type": "code",
   "execution_count": 169,
   "metadata": {},
   "outputs": [],
   "source": [
    "from f110_orl_dataset.fast_reward import MixedReward\n",
    "from f110_orl_dataset.config_new import Config\n",
    "config = Config(\"reward_progress.json\")  \n",
    "mixedReward = MixedReward(F110Env, config)"
   ]
  },
  {
   "cell_type": "code",
   "execution_count": 224,
   "metadata": {},
   "outputs": [
    {
     "name": "stdout",
     "output_type": "stream",
     "text": [
      "(100, 2)\n"
     ]
    }
   ],
   "source": [
    "print(actions_unnorm.shape)"
   ]
  },
  {
   "cell_type": "code",
   "execution_count": 234,
   "metadata": {},
   "outputs": [
    {
     "name": "stdout",
     "output_type": "stream",
     "text": [
      "!\n",
      "[]\n",
      "(1, 100, 11)\n",
      "[[0.98036373 0.98156423 0.98315787 0.98506689 0.98778454 0.99151556\n",
      "  0.99675127 0.00349072 0.0106936  0.01859763 0.0260695  0.03340929\n",
      "  0.04033399 0.0468756  0.05273281 0.0587383  0.06426624 0.06954221\n",
      "  0.07450956 0.07953324 0.08439289 0.0898245  0.09506399 0.10051378\n",
      "  0.10648528 0.11308021 0.12026697 0.12664722 0.13274752 0.13913091\n",
      "  0.1453536  0.15116525 0.15762523 0.16357233 0.17002526 0.17616943\n",
      "  0.18125875 0.18635991 0.19074206 0.1948133  0.198283   0.21454946\n",
      "  0.21544914 0.21685882 0.21850314 0.2203585  0.22248784 0.2248913\n",
      "  0.22770298 0.23089284 0.23429477 0.23807885 0.24257479 0.24742103\n",
      "  0.2517538  0.25567987 0.25916686 0.26242755 0.26531657 0.26803535\n",
      "  0.27149368 0.27555223 0.28043362 0.2860807  0.29144899 0.29617808\n",
      "  0.29980633 0.30443117 0.30880477 0.31327393 0.31795497 0.32309117\n",
      "  0.3279213  0.33280157 0.33790088 0.34337533 0.34949268 0.35587536\n",
      "  0.36245699 0.36903831 0.37557536 0.38198649 0.3883285  0.39415342\n",
      "  0.39974729 0.40525985 0.41105207 0.41671438 0.4231696  0.42973986\n",
      "  0.43737674 0.44626575 0.45632641 0.46690198 0.47630736 0.48466605\n",
      "  0.49229387 0.49898775 0.50527753 0.51047519]]\n",
      "------\n",
      "[[3.7932992  3.81386948 3.83621144 3.85872817 3.89008236 3.93120837\n",
      "  3.9914937  4.07201958 4.16727829 4.27600765 4.38077068 4.48674822\n",
      "  4.58736086 4.68822622 4.76887512 4.85625362 4.94667435 5.0416584\n",
      "  5.1408515  5.24783754 5.35943508 5.48775721 5.61828804 5.75868702\n",
      "  5.91638756 6.09095049 6.27902985 6.44403553 6.59457302 6.74150705\n",
      "  6.87411928 6.9925561  7.12711573 7.25106287 7.39286375 7.53559637\n",
      "  7.65499306 7.77910614 7.88060331 7.97833872 8.0611124  8.13691139\n",
      "  8.20843887 8.27736759 8.33929443 8.3958807  8.44412327 8.48412132\n",
      "  8.51647472 8.54005337 8.5544281  8.56738281 8.57684231 8.57434654\n",
      "  8.55325317 8.52655506 8.48882389 8.43786907 8.38326931 8.3278017\n",
      "  8.25105    8.16365528 8.06146812 7.93950844 7.81763792 7.70329046\n",
      "  7.61240673 7.5171771  7.42544031 7.33085108 7.23189878 7.12601042\n",
      "  7.0341773  6.95019531 6.86982155 6.79370642 6.71799517 6.64750767\n",
      "  6.58254337 6.52308273 6.47012997 6.42272758 6.38215542 6.35271883\n",
      "  6.33351946 6.3251276  6.31911993 6.31884432 6.32110119 6.32887983\n",
      "  6.35324526 6.39260626 6.44372892 6.5057478  6.57321358 6.6504283\n",
      "  6.73774481 6.83306265 6.95270109 7.0541935 ]]\n",
      "[[0.         0.12005054 0.15936358 0.19090178 0.27176582 0.37310197\n",
      "  0.52357053 0.67394467 0.72028839 0.79040336 0.74718686 0.73397913\n",
      "  0.69246923 0.65416162 0.58572033 0.60054924 0.55279407 0.5275974\n",
      "  0.49673479 0.50236841 0.48596414 0.54316153 0.52394868 0.54497893\n",
      "  0.59715045 0.65949252 0.7186764  0.63802504 0.61003016 0.63833827\n",
      "  0.62226936 0.58116475 0.64599831 0.59471007 0.64529301 0.61441647\n",
      "  0.50893241 0.51011633 0.43821452 0.40712465 0.34696962 1.62664573\n",
      "  0.0899685  0.14096804 0.1644316  0.1855363  0.21293403 0.24034614\n",
      "  0.28116714 0.31898685 0.34019238 0.37840861 0.44959336 0.48462418\n",
      "  0.43327734 0.3926069  0.34869831 0.32606936 0.28890214 0.27187796\n",
      "  0.34583275 0.40585569 0.48813896 0.56470782 0.53682878 0.47290864\n",
      "  0.36282525 0.46248452 0.43735922 0.44691603 0.46810422 0.51361992\n",
      "  0.48301345 0.48802647 0.50993176 0.54744479 0.61173427 0.63826799\n",
      "  0.65816306 0.65813226 0.65370469 0.6411131  0.63420122 0.58249218\n",
      "  0.55938651 0.55125694 0.57922191 0.56623102 0.64552181 0.65702626\n",
      "  0.76368724 0.88890149 1.00606536 1.05755774 0.94053739 0.83586968\n",
      "  0.76278147 0.66938787 0.62897809 0.51976636]]\n"
     ]
    }
   ],
   "source": [
    "# now we calculate the dones\n",
    "num_trajectories = len(states_unnorm)\n",
    "for i in range(num_trajectories):\n",
    "    print(\"!\")\n",
    "    obs = states_unnorm[i]\n",
    "    action = actions_unnorm\n",
    "    col = ~is_drivable(map, obs[:,0:2])\n",
    "    ter = col\n",
    "    \n",
    "    laser_scan = F110Env.get_laser_scan(obs, subsample_laser)\n",
    "    # add a dimnnsion to all the inputs\n",
    "    laser_scan =  np.expand_dims(laser_scan, axis=0)\n",
    "    obs = np.expand_dims(obs, axis=0)\n",
    "    action = np.expand_dims(action, axis=0)\n",
    "    col = np.expand_dims(col, axis=0)\n",
    "    ter = np.expand_dims(ter, axis=0)\n",
    "    rewards, _ = mixedReward(obs, action,col, ter,laser_scan=laser_scan)\n",
    "    print(rewards)"
   ]
  },
  {
   "cell_type": "code",
   "execution_count": 235,
   "metadata": {},
   "outputs": [
    {
     "name": "stdout",
     "output_type": "stream",
     "text": [
      "[[0.         0.12005054 0.15936358 0.19090178 0.27176582 0.37310197\n",
      "  0.52357053 0.67394467 0.72028839 0.79040336 0.74718686 0.73397913\n",
      "  0.69246923 0.65416162 0.58572033 0.60054924 0.55279407 0.5275974\n",
      "  0.49673479 0.50236841 0.48596414 0.54316153 0.52394868 0.54497893\n",
      "  0.59715045 0.65949252 0.7186764  0.63802504 0.61003016 0.63833827\n",
      "  0.62226936 0.58116475 0.64599831 0.59471007 0.64529301 0.61441647\n",
      "  0.50893241 0.51011633 0.43821452 0.40712465 0.34696962 1.62664573\n",
      "  0.0899685  0.14096804 0.1644316  0.1855363  0.21293403 0.24034614\n",
      "  0.28116714 0.31898685 0.34019238 0.37840861 0.44959336 0.48462418\n",
      "  0.43327734 0.3926069  0.34869831 0.32606936 0.28890214 0.27187796\n",
      "  0.34583275 0.40585569 0.48813896 0.56470782 0.53682878 0.47290864\n",
      "  0.36282525 0.46248452 0.43735922 0.44691603 0.46810422 0.51361992\n",
      "  0.48301345 0.48802647 0.50993176 0.54744479 0.61173427 0.63826799\n",
      "  0.65816306 0.65813226 0.65370469 0.6411131  0.63420122 0.58249218\n",
      "  0.55938651 0.55125694 0.57922191 0.56623102 0.64552181 0.65702626\n",
      "  0.76368724 0.88890149 1.00606536 1.05755774 0.94053739 0.83586968\n",
      "  0.76278147 0.66938787 0.62897809 0.51976636]]\n"
     ]
    }
   ],
   "source": [
    "print(rewards)"
   ]
  },
  {
   "cell_type": "code",
   "execution_count": 218,
   "metadata": {},
   "outputs": [
    {
     "name": "stdout",
     "output_type": "stream",
     "text": [
      "[[[8.3286953  3.7932992  0.58868551 ... 0.         0.98036373 0.        ]\n",
      "  [8.3454752  3.81386948 0.64283991 ... 0.         0.98156423 0.        ]\n",
      "  [8.37199306 3.83621144 0.68313789 ... 0.40000001 0.98315787 0.        ]\n",
      "  ...\n",
      "  [4.46751213 6.83306265 0.67981577 ... 2.71652508 0.49898775 0.        ]\n",
      "  [4.35356522 6.95270109 0.73846006 ... 2.37774491 0.50527753 0.        ]\n",
      "  [4.24467707 7.0541935  0.76702833 ... 2.05482197 0.51047519 0.        ]]]\n"
     ]
    }
   ],
   "source": [
    "print(states_unnorm)"
   ]
  },
  {
   "cell_type": "code",
   "execution_count": 167,
   "metadata": {},
   "outputs": [
    {
     "name": "stdout",
     "output_type": "stream",
     "text": [
      "[[ 0.00000000e+00  0.00000000e+00]\n",
      " [ 0.00000000e+00  0.00000000e+00]\n",
      " [ 0.00000000e+00  4.00000006e-01]\n",
      " [-1.27173081e-01  7.88098335e-01]\n",
      " [-9.45305973e-02  1.17474747e+00]\n",
      " [-9.45301801e-02  1.55920315e+00]\n",
      " [ 4.43485826e-02  1.93992138e+00]\n",
      " [ 2.39343941e-03  2.31380057e+00]\n",
      " [ 2.39343941e-03  2.67138052e+00]\n",
      " [ 1.25522599e-01  2.97578096e+00]]\n",
      "tensor([[[ 1.1070e-02,  2.9000e-01],\n",
      "         [ 3.7892e-04,  2.9000e-01],\n",
      "         [ 6.3586e-04,  2.9000e-01],\n",
      "         [ 4.2896e-04,  2.9000e-01],\n",
      "         [ 4.8153e-04,  2.8906e-01],\n",
      "         [ 3.0020e-04,  2.8775e-01],\n",
      "         [ 2.0822e-05,  2.8612e-01],\n",
      "         [ 1.3653e-03,  2.8396e-01],\n",
      "         [ 2.6111e-03,  2.8096e-01],\n",
      "         [ 1.3794e-03,  2.7654e-01],\n",
      "         [ 1.1586e-03,  2.6976e-01],\n",
      "         [ 2.3737e-02,  2.5595e-01],\n",
      "         [ 6.9466e-04,  2.2204e-01],\n",
      "         [ 1.5538e-03,  5.4864e-02],\n",
      "         [ 3.4410e-02, -6.6160e-02],\n",
      "         [ 1.3923e-02, -6.1284e-02],\n",
      "         [ 4.6863e-03, -5.2869e-02],\n",
      "         [ 2.5214e-02, -8.4752e-02],\n",
      "         [ 3.1015e-02, -9.4286e-02],\n",
      "         [ 1.7769e-03, -1.8017e-02],\n",
      "         [ 3.3225e-02, -1.0318e-01],\n",
      "         [ 1.6346e-02, -1.6152e-02],\n",
      "         [ 1.2476e-02, -7.0801e-02],\n",
      "         [ 2.0354e-02, -1.9866e-02],\n",
      "         [ 6.8712e-03, -6.7409e-02],\n",
      "         [ 8.9681e-04, -1.1406e-02],\n",
      "         [ 2.0972e-03, -3.5142e-02],\n",
      "         [ 3.0010e-04, -4.6989e-02],\n",
      "         [ 2.4015e-04, -1.3218e-02],\n",
      "         [ 1.0708e-03, -3.2709e-02],\n",
      "         [ 4.0477e-06, -2.6196e-02],\n",
      "         [-8.1359e-39, -1.4244e-02],\n",
      "         [-5.4921e-06, -3.9846e-02],\n",
      "         [-2.6079e-04, -6.0715e-03],\n",
      "         [-5.3424e-06, -1.3227e-02],\n",
      "         [-3.6105e-04, -2.0040e-02],\n",
      "         [-5.5714e-03, -1.3168e-02],\n",
      "         [-1.9370e-05, -3.1317e-02],\n",
      "         [-9.8521e-04, -2.7725e-02],\n",
      "         [-2.9897e-04, -6.0456e-03],\n",
      "         [-9.6188e-30, -4.9193e-02],\n",
      "         [ 1.7567e-13, -2.0667e-02],\n",
      "         [ 7.9574e-05, -7.7581e-02],\n",
      "         [ 1.1017e-04, -9.9335e-03],\n",
      "         [ 6.1807e-03, -5.1614e-02],\n",
      "         [ 9.0171e-04, -2.0461e-02],\n",
      "         [ 5.7962e-04, -3.3814e-02],\n",
      "         [ 9.9533e-04, -4.6471e-02],\n",
      "         [ 2.4987e-03, -2.2101e-02],\n",
      "         [ 2.9218e-03, -6.2334e-02],\n",
      "         [ 4.3808e-04, -9.1075e-03],\n",
      "         [ 1.0686e-03, -4.7244e-02],\n",
      "         [ 1.7149e-11, -2.0863e-03],\n",
      "         [ 1.1480e-06, -3.8202e-02],\n",
      "         [ 1.3671e-03, -7.7258e-03],\n",
      "         [ 2.4994e-03, -1.0486e-02],\n",
      "         [ 9.8205e-05, -5.9723e-03],\n",
      "         [-1.2612e-44, -2.7987e-03],\n",
      "         [-3.9006e-21, -3.5616e-04],\n",
      "         [-1.6827e-30, -3.4773e-05],\n",
      "         [-1.3598e-06, -0.0000e+00],\n",
      "         [-1.5764e-03,  2.4870e-03],\n",
      "         [-6.2325e-05,  2.5418e-02],\n",
      "         [-1.4948e-03,  2.4181e-02],\n",
      "         [-6.2681e-03,  4.3946e-02],\n",
      "         [-6.3399e-03,  5.1180e-02],\n",
      "         [-1.2542e-02,  3.7401e-02],\n",
      "         [-1.3306e-02,  9.4385e-02],\n",
      "         [-3.7560e-02,  4.4963e-02],\n",
      "         [-2.9875e-02,  1.0431e-01],\n",
      "         [-6.1842e-02,  1.1195e-01],\n",
      "         [-1.7585e-03,  3.2820e-02],\n",
      "         [-6.8518e-02,  1.6409e-01],\n",
      "         [-8.1451e-03,  1.1146e-01],\n",
      "         [-3.1962e-02,  1.0122e-01],\n",
      "         [-3.3247e-02,  1.2472e-01],\n",
      "         [-5.3280e-02,  1.6930e-01],\n",
      "         [-1.7907e-02,  1.1351e-02],\n",
      "         [-4.8452e-02, -1.3734e-01],\n",
      "         [-4.5791e-03, -1.0767e-01],\n",
      "         [-3.3337e-02, -9.0048e-02],\n",
      "         [-4.4693e-02, -1.0382e-01],\n",
      "         [-3.1542e-02, -6.5812e-02],\n",
      "         [-1.7582e-02, -4.3076e-02],\n",
      "         [-1.2267e-02, -5.7077e-02],\n",
      "         [-1.5854e-02, -7.7900e-03],\n",
      "         [-1.3472e-03, -2.0539e-02],\n",
      "         [-9.4745e-03, -1.8572e-02],\n",
      "         [-4.5687e-03, -1.0077e-02],\n",
      "         [-2.9607e-03, -3.7763e-03],\n",
      "         [-2.2519e-03, -1.4443e-03],\n",
      "         [-2.2749e-03, -1.4189e-04],\n",
      "         [-7.5026e-03, -3.7008e-10],\n",
      "         [-1.6312e-03,  1.0364e-04],\n",
      "         [-5.1988e-05,  2.0846e-02],\n",
      "         [-1.0723e-04,  1.4777e-02],\n",
      "         [-7.4947e-22,  3.4044e-02],\n",
      "         [ 3.8698e-09,  4.2222e-02],\n",
      "         [ 5.8275e-03,  4.0388e-02],\n",
      "         [ 3.4062e-03,  5.6864e-02]]])\n"
     ]
    }
   ],
   "source": [
    "print(actions_unnorm[:10])"
   ]
  },
  {
   "cell_type": "code",
   "execution_count": 153,
   "metadata": {},
   "outputs": [
    {
     "name": "stdout",
     "output_type": "stream",
     "text": [
      "(1, 100, 1)\n"
     ]
    },
    {
     "data": {
      "text/plain": [
       "[<matplotlib.lines.Line2D at 0x7f48b526e6d0>]"
      ]
     },
     "execution_count": 153,
     "metadata": {},
     "output_type": "execute_result"
    },
    {
     "data": {
      "image/png": "[encoded data removed]",
      "text/plain": [
       "<Figure size 640x480 with 1 Axes>"
      ]
     },
     "metadata": {},
     "output_type": "display_data"
    }
   ],
   "source": [
    "print(progress_obs_np.shape)\n",
    "plt.plot(progress_obs_np[0,:,0])"
   ]
  },
  {
   "cell_type": "code",
   "execution_count": 119,
   "metadata": {},
   "outputs": [
    {
     "name": "stdout",
     "output_type": "stream",
     "text": [
      "True\n"
     ]
    }
   ],
   "source": [
    "print(use_dynamics)\n"
   ]
  },
  {
   "cell_type": "code",
   "execution_count": 117,
   "metadata": {},
   "outputs": [],
   "source": [
    "with torch.no_grad():\n",
    "    states_initial = states[:,0,:]\n",
    "    state_batches = torch.split(states_initial, batch_size) # only do rollouts from timestep 0\n",
    "    all_states = torch.zeros((0, horizon, states[0].shape[-1]))\n",
    "    all_actions = torch.zeros((0, horizon, 2))\n",
    "    \n",
    "    for num_batch, state_batch in enumerate(state_batches):\n",
    "        assert len(state_batch.shape) == 2\n",
    "        assert state_batch.shape[0] <= batch_size\n",
    "        all_state_batches = torch.zeros((state_batch.shape[0], 0, state_batch.shape[-1]))\n",
    "        all_actions_batches = torch.zeros((state_batch.shape[0], 0, 2))\n",
    "        for i in range(horizon):\n",
    "\n",
    "            if get_target_action is None:\n",
    "                if i == 0:\n",
    "                    action = np.zeros((state_batch.shape[0],2),dtype=np.float32)\n",
    "                    \n",
    "                    action = torch.tensor(action)\n",
    "                else:\n",
    "                    action = actions[num_batch*batch_size:batch_size*(num_batch+1),i -1,:] # (batch,2)\n",
    "                    action = action.float()\n",
    "                #print(action.shape)\n",
    "                assert(action.shape[0] == state_batch.shape[0])\n",
    "                assert(action.shape[1]==2)\n",
    "            else:\n",
    "                if i == 0: #TODO! this is missing in the dataset!\n",
    "                    action = np.zeros((state_batch.shape[0],2),dtype=np.float32)\n",
    "                    # action to torch\n",
    "                    action = torch.tensor(action)\n",
    "                else:\n",
    "                    action = get_target_action(state_batch) #.to('cpu').numpy())\n",
    "\n",
    "                    assert(action.shape[0] == state_batch.shape[0])\n",
    "                    assert(action.shape[1]==2)\n",
    "                    action = action\n",
    "                    #make dtype float32\n",
    "                    action = action.float()\n",
    "            # add the action to all_batch_actions along dim=1\n",
    "            #print(\"--\")\n",
    "            #print(state_batch.unsqueeze(1).shape)\n",
    "            #print(action.shape)\n",
    "            #print(all_state_batches.shape)\n",
    "           \n",
    "            all_actions_batches = torch.cat([all_actions_batches, action.unsqueeze(1)], dim=1)\n",
    "            all_state_batches = torch.cat([all_state_batches, state_batch.unsqueeze(1)], dim=1)\n",
    "            \n",
    "            if use_dynamics:\n",
    "                #print(i)\n",
    "                state_batch = model(state_batch, action)\n",
    "                #print(\"-----\")\n",
    "                #print(state_batch)\n",
    "            elif horizon-1 != i:\n",
    "                state_batch = states[:,i+1,:]\n",
    "\n",
    "        all_states = torch.cat([all_states, all_state_batches], dim=0)\n",
    "        all_actions = torch.cat([all_actions, all_actions_batches], dim=0)\n"
   ]
  },
  {
   "cell_type": "code",
   "execution_count": 118,
   "metadata": {},
   "outputs": [
    {
     "name": "stdout",
     "output_type": "stream",
     "text": [
      "torch.Size([1, 100, 9])\n"
     ]
    },
    {
     "data": {
      "image/png": "[encoded data removed]",
      "text/plain": [
       "<Figure size 640x480 with 1 Axes>"
      ]
     },
     "metadata": {},
     "output_type": "display_data"
    }
   ],
   "source": [
    "print(all_states.shape)\n",
    "# plot the x and y position of the first 10 states\n",
    "import matplotlib.pyplot as plt\n",
    "plt.plot( all_states[0,:,0],  all_states[0,:,1], label=\"model\")\n",
    "# plot the first 100 states from the behavior dataset\n",
    "plt.plot(behavior_dataset.states[:100,0],  behavior_dataset.states[:100,1], label=\"behavior\")\n",
    "plt.legend()\n",
    "plt.show()"
   ]
  },
  {
   "cell_type": "code",
   "execution_count": null,
   "metadata": {},
   "outputs": [],
   "source": [
    "rollout(behavior_dataset.states[:10].squeeze(1), behavior_dataset.actions[:10])"
   ]
  },
  {
   "cell_type": "code",
   "execution_count": null,
   "metadata": {},
   "outputs": [],
   "source": [
    "def sample_initial_states(self, initial_mask, min_distance=50, num_samples=20):\n",
    "    # Find all initial state indices\n",
    "    initial_indices = np.where(initial_mask == 1)[0]\n",
    "\n",
    "    # Filter out the indices that don't have at least min_distance before the next initial state\n",
    "    valid_indices = [idx for i, idx in enumerate(initial_indices[:-1]) if initial_indices[i+1] - idx >= min_distance]\n",
    "\n",
    "    # If the last state is also valid (i.e., it has more than min_distance states until the end of the array)\n",
    "    if len(initial_mask) - initial_indices[-1] >= min_distance:\n",
    "        valid_indices.append(initial_indices[-1])\n",
    "\n",
    "    # If there are fewer or equal valid indices than num_samples, return all valid indices\n",
    "    if len(valid_indices) <= num_samples:\n",
    "        return valid_indices\n",
    "    \n",
    "    # Determine the step size to take to get num_samples from the list of valid_indices\n",
    "    step_size = len(valid_indices) // num_samples\n",
    "\n",
    "    # Select the indices\n",
    "    sampled_indices = valid_indices[::step_size][:num_samples]\n",
    "    \n",
    "    return sampled_indices"
   ]
  },
  {
   "cell_type": "code",
   "execution_count": null,
   "metadata": {},
   "outputs": [],
   "source": []
  },
  {
   "cell_type": "code",
   "execution_count": null,
   "metadata": {},
   "outputs": [],
   "source": [
    "def plot_rollouts_fast(self, dataset,\n",
    "                    unnormalize_fn,\n",
    "                    batch_size = 256, \n",
    "                    horizon=100, \n",
    "                    num_samples=256, \n",
    "                    discount=1.0, \n",
    "                    get_target_action=None,\n",
    "                    use_dynamics=True,\n",
    "                    path=\"rollouts_mb_fast.png\"):\n",
    "    \n",
    "    with torch.no_grad():\n",
    "        states, actions, rewards, inital_mask = dataset.states, dataset.actions, dataset.rewards, dataset.mask_inital\n",
    "        \n",
    "\n",
    "        sampled_initial_indices = sample_initial_states(inital_mask, \n",
    "                                                                min_distance=horizon, \n",
    "                                                                num_samples=num_samples)\n",
    "        \n",
    "        sampled_initial_indices = torch.tensor(sampled_initial_indices)\n",
    "\n",
    "        sampled_states = torch.stack([states[idx:idx + horizon] for idx in sampled_initial_indices])\n",
    "        sampled_actions = torch.stack([actions[idx:idx + horizon] for idx in sampled_initial_indices])\n",
    "        # Use a colormap to generate colors\n",
    "        num_samples = len(sampled_initial_indices)\n",
    "        colors = cm.viridis(np.linspace(0, 1, num_samples))\n",
    "\n",
    "        all_states, all_actions = self.fast_rollout(sampled_states, sampled_actions, \n",
    "                                                    get_target_action=get_target_action,\n",
    "                                                    horizon=horizon,\n",
    "                                                    batch_size=batch_size,\n",
    "                                                    use_dynamics=use_dynamics)  \n",
    "        #print(all_states.shape)\n",
    "        #print(all_states[0])\n",
    "        #print(states.shape)\n",
    "        #print(states[sampled_initial_indices[0]:sampled_initial_indices[0]+horizon, 0:2])\n",
    "        all_states = all_states.cpu().numpy()\n",
    "        states = states.cpu().numpy()\n",
    "        plt.scatter(states[:, 0].reshape(-1)\n",
    "                    ,states[:, 1].reshape(-1), \n",
    "        color='grey', s=5, label='All states', alpha=0.5)\n",
    "\n",
    "        for i,idx in enumerate(sampled_initial_indices):\n",
    "            trajectory = all_states[i,:, :2]\n",
    "            # print(trajectory.shape)\n",
    "            plt.scatter(trajectory[0, 0], trajectory[0, 1], color=colors[i], marker='x', s=60, label=f'Start {idx + 1}')\n",
    "            plt.plot(trajectory[:, 0], trajectory[:, 1], label=f\"Rollout {idx + 1}\", color=colors[i])\n",
    "            plt.plot(states[idx:idx+horizon, 0], states[idx:idx+horizon, 1],'--', label=f\"Ground Truth {idx + 1}\", color=colors[i])\n",
    "        plt.title(\"Rollouts using Given Actions (torch)\")\n",
    "        # plt.legend()\n",
    "        plt.savefig(f\"{path}\")\n",
    "        plt.clf()\n"
   ]
  }
 ],
 "metadata": {
  "kernelspec": {
   "display_name": "release",
   "language": "python",
   "name": "python3"
  },
  "language_info": {
   "codemirror_mode": {
    "name": "ipython",
    "version": 3
   },
   "file_extension": ".py",
   "mimetype": "text/x-python",
   "name": "python",
   "nbconvert_exporter": "python",
   "pygments_lexer": "ipython3",
   "version": "3.8.18"
  }
 },
 "nbformat": 4,
 "nbformat_minor": 2
}
